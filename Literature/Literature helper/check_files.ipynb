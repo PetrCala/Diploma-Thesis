{
 "cells": [
  {
   "attachments": {},
   "cell_type": "markdown",
   "metadata": {},
   "source": [
    "##### Literature verification script\n",
    "*Created on January 30, 2023*\n",
    "___\n",
    "- Read the files from the *Studies list* and check their correct denotation in the literature file.\n",
    "- Check that all files marked as downloaded in the literature file are actually present in the *Studies list* folder"
   ]
  },
  {
   "cell_type": "code",
   "execution_count": 5,
   "metadata": {},
   "outputs": [],
   "source": [
    "import os\n",
    "\n",
    "import pandas as pd\n"
   ]
  },
  {
   "cell_type": "code",
   "execution_count": 2,
   "metadata": {},
   "outputs": [],
   "source": [
    "BASE_PATH = r'C:\\Users\\hso20\\OneDrive\\Plocha\\IES\\Diploma-Thesis'\n",
    "LIT_FILE_PATH = BASE_PATH + r'\\Literature\\Literature.xlsx'\n",
    "LIT_FILE_QUERY_SHEET_NAME = 'Query literature' # Name of the sheet with query data\n",
    "STUDIES_PATH = BASE_PATH + r'\\Studies list'"
   ]
  },
  {
   "cell_type": "code",
   "execution_count": 56,
   "metadata": {},
   "outputs": [],
   "source": [
    "def readLitFileIntoList(lit_file_path, get_downloaded_info_too = False):\n",
    "    lit_data = pd.read_excel(LIT_FILE_PATH, sheet_name=LIT_FILE_QUERY_SHEET_NAME)\n",
    "    labels = list(lit_data['Label'])\n",
    "    if get_downloaded_info_too:\n",
    "        downloaded = list(lit_data['Downloaded'])\n",
    "        return labels, downloaded\n",
    "    return labels\n",
    "\n",
    "def readFilesIntoList(folder_path):\n",
    "    files = [f.replace('.pdf', '') for f in os.listdir(folder_path) if os.path.isfile(os.path.join(folder_path, f))]\n",
    "    return files"
   ]
  },
  {
   "cell_type": "code",
   "execution_count": 57,
   "metadata": {},
   "outputs": [],
   "source": [
    "# Construct the two lists\n",
    "labels, downloaded = readLitFileIntoList(LIT_FILE_PATH, get_downloaded_info_too=True)\n",
    "files = readFilesIntoList(STUDIES_PATH)"
   ]
  },
  {
   "cell_type": "code",
   "execution_count": 62,
   "metadata": {},
   "outputs": [
    {
     "name": "stdout",
     "output_type": "stream",
     "text": [
      "✓ There are no unlabeled files.\n",
      "✓ All files marked as downloaded are indeed that.\n"
     ]
    }
   ],
   "source": [
    "# Get the list of files which have no label in the literature file\n",
    "missing_in_lit = [i for i in files if i not in labels[:100]]\n",
    "if not missing_in_lit == []:\n",
    "    print('X There files are missing from the literature file, but are downloaded:', missing_in_lit)\n",
    "else:\n",
    "    print('✓ There are no unlabeled files.')\n",
    "\n",
    "# Get the list of studies marked as downloaded in the excel, and check whether they are indeed downloaded\n",
    "not_downloaded = []\n",
    "for label, d in zip(labels, downloaded):\n",
    "    if d == 'YES':\n",
    "        file_path = STUDIES_PATH + f'\\{label}.pdf'\n",
    "        if not os.path.exists(file_path): # File not in download folder\n",
    "            not_downloaded.append(label)\n",
    "if not not_downloaded == []:\n",
    "    print(f'X There files are undownloaded files, which are marked as downloaded in the literature file:', not_downloaded)\n",
    "else:\n",
    "    print('✓ All files marked as downloaded are indeed that.')"
   ]
  }
 ],
 "metadata": {
  "kernelspec": {
   "display_name": "base",
   "language": "python",
   "name": "python3"
  },
  "language_info": {
   "codemirror_mode": {
    "name": "ipython",
    "version": 3
   },
   "file_extension": ".py",
   "mimetype": "text/x-python",
   "name": "python",
   "nbconvert_exporter": "python",
   "pygments_lexer": "ipython3",
   "version": "3.9.15"
  },
  "orig_nbformat": 4,
  "vscode": {
   "interpreter": {
    "hash": "ef302c5ef8ca581e58ca04844524c5fb484f395fd3b9a761dc74c7358f0b452c"
   }
  }
 },
 "nbformat": 4,
 "nbformat_minor": 2
}
