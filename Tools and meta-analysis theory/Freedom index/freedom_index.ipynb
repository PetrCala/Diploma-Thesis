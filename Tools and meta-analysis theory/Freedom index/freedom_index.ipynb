{
 "cells": [
  {
   "attachments": {},
   "cell_type": "markdown",
   "metadata": {},
   "source": [
    "### Academic Freedom index data preprocessing\n",
    "\n",
    "This script serves to modify the **academic freedom index** dataset (available here: https://www.v-dem.net/data/the-v-dem-dataset/country-year-v-dem-fullothers-v13/) and merge it with the diploma thesis main data frame. The output of the script is a single `.csv` file that contains the data with the academic freedom index for each observation of the master data frame.\n",
    "\n",
    "#### How to run:\n",
    "* Place both data frames in the working directory\n",
    "* Run the script"
   ]
  },
  {
   "cell_type": "code",
   "execution_count": 1,
   "metadata": {},
   "outputs": [],
   "source": [
    "import os\n",
    "\n",
    "import pandas as pd"
   ]
  },
  {
   "cell_type": "code",
   "execution_count": 2,
   "metadata": {},
   "outputs": [],
   "source": [
    "def checkCountryNames(index_data, master_data, country_dict):\n",
    "    '''Input the two data frames, a translation dictionary and check whether all countries of the master frame are\n",
    "    named correctly in the index data frame or they are a part of the country dictionary. If no translation\n",
    "    is known for a country, throw an error.\n",
    "\n",
    "    As for the dictionary, the keys should be the names in the index data, and the values should be the names\n",
    "    in the master data frame.\n",
    "    '''\n",
    "    # Input validation\n",
    "    if not ('country' in master_data.columns and 'country_name' in index_data.columns):\n",
    "        raise ValueError(\"Check that the data column names are correct.\")\n",
    "    # Main \n",
    "    missing_countries = []\n",
    "    master_countries = master_data['country'].unique()\n",
    "    index_countries = index_data['country_name'].unique()\n",
    "    for country in master_countries:\n",
    "        if not ((country in index_countries) or (country in country_dict.values())):\n",
    "            print(f\"Unhandled country: {country}\")\n",
    "            missing_countries.append(country)\n",
    "            continue\n",
    "    if len(missing_countries) > 0:\n",
    "        raise ValueError(\"Unhandled country names.\")\n",
    "    print(\"All countries are well specified or are a part of the country dictionary.\")\n",
    "\n",
    "def preprocessData(index_data:pd.DataFrame, master_data:pd.DataFrame, country_dict:dict, to_excel:bool = True):    \n",
    "    '''Input the two data frames, merge them togther, and output a single .csv file called\n",
    "    \"output.csv\" that will contain the necessary column.\n",
    "    '''\n",
    "    # First, rename the columns in index_data to match the column names in master_data\n",
    "    index_data = index_data.rename(columns={'country_name': 'country', 'year': 'data_avgyear'})\n",
    "\n",
    "    # Replace the country names in index_data based on the country_dict\n",
    "    index_data['country'] = index_data['country'].replace(country_dict)\n",
    "\n",
    "    # Merge the two data frames on the 'country' and 'data_avgyear' columns\n",
    "    master_data = master_data.merge(index_data[['country', 'data_avgyear', 'v2xca_academ']], on=['country', 'data_avgyear'], how='left')\n",
    "\n",
    "    # Rename the 'v2xca_academ' column to 'freedom_index'\n",
    "    master_data = master_data.rename(columns={'v2xca_academ': 'freedom_index'})\n",
    "\n",
    "    # Master data to a .csv file\n",
    "    if to_excel:\n",
    "        master_data.to_csv(\"output.csv\", index = False)\n",
    "\n",
    "    return master_data"
   ]
  },
  {
   "cell_type": "code",
   "execution_count": 5,
   "metadata": {},
   "outputs": [
    {
     "name": "stdout",
     "output_type": "stream",
     "text": [
      "All countries are well specified or are a part of the country dictionary.\n"
     ]
    }
   ],
   "source": [
    "index_data_path = 'freedom_index_data.xlsx'\n",
    "# master_data_path = 'master_data.xlsx'\n",
    "master_data_path = 'twin_data.xlsx'\n",
    "\n",
    "if (not os.path.exists(index_data_path)) or (not os.path.exists(master_data_path)):\n",
    "    raise ValueError(\"Missing source file\")\n",
    "\n",
    "index_data = pd.read_excel(index_data_path)\n",
    "master_data = pd.read_excel(master_data_path)\n",
    "\n",
    "# Define a translation dictionary that will allow the function to link different country names to one country\n",
    "country_dict = {\n",
    "    \"United States of America\": \"United States\",\n",
    "    \"Palestine/West Bank\": \"Palestine\",\n",
    "    \"Czechia\": \"Czech Republic\",\n",
    "    # \"United Kingdom\": \"Great Britain\", # In case there is Great Britain instead of United Kingdom\n",
    "}\n",
    "\n",
    "# Check whether all countries in the dataset can be found inside the index data frame or the country dictionary\n",
    "checkCountryNames(index_data, master_data, country_dict)\n",
    "\n",
    "# Create the output\n",
    "output_data = preprocessData(index_data, master_data, country_dict, to_excel = True)"
   ]
  }
 ],
 "metadata": {
  "kernelspec": {
   "display_name": "base",
   "language": "python",
   "name": "python3"
  },
  "language_info": {
   "codemirror_mode": {
    "name": "ipython",
    "version": 3
   },
   "file_extension": ".py",
   "mimetype": "text/x-python",
   "name": "python",
   "nbconvert_exporter": "python",
   "pygments_lexer": "ipython3",
   "version": "3.9.15"
  },
  "orig_nbformat": 4
 },
 "nbformat": 4,
 "nbformat_minor": 2
}
