{
 "cells": [
  {
   "attachments": {},
   "cell_type": "markdown",
   "metadata": {},
   "source": [
    "#### Literature helper\n",
    "*Created on January 27, 2023*\n",
    "___\n",
    "\n",
    "This notebook serves for the transformation of the semi-transformed query output data, and merge them with the externally obtained study citations\n",
    "\n",
    "The output will be a new excel file, where the literature will be paired with their citations"
   ]
  },
  {
   "cell_type": "code",
   "execution_count": 1,
   "metadata": {},
   "outputs": [],
   "source": [
    "import re\n",
    "\n",
    "import pandas as pd\n",
    "import numpy as np"
   ]
  },
  {
   "cell_type": "code",
   "execution_count": 2,
   "metadata": {},
   "outputs": [],
   "source": [
    "# Static\n",
    "FOLDER_PATH = r'C:\\Users\\hso20\\OneDrive\\Plocha\\IES\\Diploma-Thesis\\Tools and meta-analysis theory\\Scholar-bot\\data'\n"
   ]
  },
  {
   "cell_type": "code",
   "execution_count": 3,
   "metadata": {},
   "outputs": [],
   "source": [
    "main_data = pd.read_excel(f'{FOLDER_PATH}\\Query_data_clean.xlsx', sheet_name='main')\n",
    "citation_data = pd.read_excel(f'{FOLDER_PATH}\\Query_data_clean.xlsx', sheet_name='raw_citations')\n"
   ]
  },
  {
   "cell_type": "code",
   "execution_count": 130,
   "metadata": {},
   "outputs": [],
   "source": [
    "# Useful functions\n",
    "\n",
    "def quoteAllCitations(df):\n",
    "    '''Input the citation data frame (with citations and study titles),\n",
    "    and return a new data frame with all study titles quoted, if they are not already.\n",
    "\n",
    "    Preferably run this right after reading the source citation data set.\n",
    "    '''\n",
    "    pass\n",
    "\n",
    "def extractStudyTitle(citation):\n",
    "    '''Input a citation and extract the study title. If no title is found,\n",
    "    return None.\n",
    "    '''\n",
    "    rgx = r'\"(.*)\"' # Extract between double quotes # Alternative - r'\"([^\"]*)\"'\n",
    "    match = re.search(rgx, citation)\n",
    "    if match is None:\n",
    "        return None\n",
    "    searched_title = match.group(1) # Title of searched study\n",
    "    return searched_title\n",
    "\n",
    "\n",
    "def handleMissingTitles(df):\n",
    "    '''Input the citation data with missing study titles and try to replace these titles with\n",
    "    titles obtained from the citations. Leave None in place of those studies, where neither can\n",
    "    be found.\n",
    "    '''\n",
    "    if not 'study_title' in df.columns:\n",
    "        raise ValueError('Incorrect data set.')\n",
    "    na_bool = df['study_title'].isna()\n",
    "    new_titles = []\n",
    "    # If study title is present, leave the title, otherwise extract from citation\n",
    "    for isna, row_zip in zip(na_bool, df.iterrows()):\n",
    "        row = row_zip[1]\n",
    "        if not isna:\n",
    "            new_title = row['study_title']\n",
    "        else:\n",
    "            new_title = extractStudyTitle(row['citation'])\n",
    "        new_titles.append(new_title)\n",
    "\n",
    "    # Replace the column with new values\n",
    "    df['study_title'] = new_titles \n",
    "    return df"
   ]
  },
  {
   "cell_type": "code",
   "execution_count": 135,
   "metadata": {},
   "outputs": [],
   "source": [
    "# Subset the citation data\n",
    "citation_data = citation_data[['study_title', 'citation']]\n",
    "\n",
    "# Replace all missing titles with title from their citation, if the citation is available\n",
    "citation_data = handleMissingTitles(citation_data)\n",
    "\n",
    "# Drop all rows without a study title - unidentifiable\n",
    "if any(citation_data['study_title'].isna()):\n",
    "    missing_rows = sum(citation_data['study_title'].isna())\n",
    "    print(f'Dropping {missing_rows} rows from the dataset...')\n",
    "    citation_data = citation_data.dropna(subset='study_title')\n",
    "\n",
    "# Drop rows with duplicate column value\n",
    "if any(citation_data['study_title'].duplicated()):\n",
    "    citation_data = citation_data.drop_duplicates(subset='study_title', keep='first')\n",
    "\n",
    "# Merge the data frames together\n",
    "merged_data = pd.merge(main_data, citation_data, how='left', on='study_title')\n",
    "\n",
    "# Output to excel\n",
    "merged_data.to_excel(\"data/merged_data.xlsx\", index=False, sheet_name='merged')"
   ]
  }
 ],
 "metadata": {
  "kernelspec": {
   "display_name": ".venv",
   "language": "python",
   "name": "python3"
  },
  "language_info": {
   "codemirror_mode": {
    "name": "ipython",
    "version": 3
   },
   "file_extension": ".py",
   "mimetype": "text/x-python",
   "name": "python",
   "nbconvert_exporter": "python",
   "pygments_lexer": "ipython3",
   "version": "3.9.1 (tags/v3.9.1:1e5d33e, Dec  7 2020, 17:08:21) [MSC v.1927 64 bit (AMD64)]"
  },
  "orig_nbformat": 4,
  "vscode": {
   "interpreter": {
    "hash": "cc52d728104b1ea43e74abe1e947fc87d0af04bbe0084c4f899a3e33d8b4d627"
   }
  }
 },
 "nbformat": 4,
 "nbformat_minor": 2
}
