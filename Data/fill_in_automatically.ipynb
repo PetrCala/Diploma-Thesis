{
 "cells": [
  {
   "attachments": {},
   "cell_type": "markdown",
   "metadata": {},
   "source": [
    "## Fill in Automatically\n",
    "\n",
    "Fill in the missing columns of the data frame automatically. This is mostly information that is available online, or otherwise tedious to get."
   ]
  },
  {
   "cell_type": "code",
   "execution_count": 1,
   "metadata": {},
   "outputs": [],
   "source": [
    "import os\n",
    "\n",
    "import pandas as pd\n",
    "import numpy as np\n",
    "import openpyxl"
   ]
  },
  {
   "cell_type": "code",
   "execution_count": 14,
   "metadata": {},
   "outputs": [],
   "source": [
    "#Static\n",
    "df_name = 'data_set_master_thesis_cala.xlsm'\n",
    "lit_file_name = r'C:\\Users\\hso20\\OneDrive\\Plocha\\IES\\Diploma-Thesis\\Literature\\Literature.xlsx'\n",
    "if not os.path.exists(df_name):\n",
    "    raise ValueError('Missing data frame')\n",
    "\n",
    "# Read the lit file\n",
    "data_file = pd.read_excel(df_name, sheet_name = 'data_set')\n",
    "lit_file = pd.read_excel(lit_file_name, sheet_name='Query literature')\n"
   ]
  },
  {
   "cell_type": "code",
   "execution_count": 44,
   "metadata": {},
   "outputs": [],
   "source": [
    "def getCitations(active_sheet, lit_file:pd.DataFrame):\n",
    "    '''Input the active excel_sheet, and the raw literature pandas data frame and return the desired array of citations.\n",
    "    '''\n",
    "    # Get the dictionary of citations for all studies\n",
    "    rel_studies = lit_file[lit_file[\"Collected\"] == \"YES\"]\n",
    "    citations_dict = dict() # A list of dictionaries\n",
    "    for study_iter in rel_studies.iterrows():\n",
    "        study = study_iter[1]\n",
    "        study_name = study[\"Label\"]\n",
    "        citations = study[\"Cited by\"]\n",
    "        citations_dict[study_name] = citations\n",
    "    \n",
    "    # Inside the active sheet, find the column indices for \"study_name\" and \"citations\"\n",
    "    study_name_idx = None\n",
    "    citations_idx = None\n",
    "\n",
    "    for idx, cell in enumerate(active_sheet[1]):\n",
    "        if cell.value == 'study_name':\n",
    "            study_name_idx = idx\n",
    "        elif cell.value == 'citations':\n",
    "            citations_idx = idx\n",
    "\n",
    "        if study_name_idx is not None and citations_idx is not None:\n",
    "            break\n",
    "\n",
    "    # Fill in the citations\n",
    "    for row in active_sheet.iter_rows(min_row=2, values_only = True):\n",
    "        study_name = row[study_name_idx]\n",
    "        if study_name in citations_dict:\n",
    "            cell = active_sheet.cell(row = row[0] + 1, column = citations_idx + 1) # Adding 1 because .cell() uses 1-indexing\n",
    "            cell.value = citations_dict[study_name]\n",
    "    \n",
    "    return None"
   ]
  },
  {
   "cell_type": "code",
   "execution_count": 45,
   "metadata": {},
   "outputs": [],
   "source": [
    "# Load the workbook and select the sheet\n",
    "wb = openpyxl.load_workbook(df_name)\n",
    "study_sheet = wb['data_set'] # Data_set worksheet\n",
    "\n",
    "# Add the citations\n",
    "getCitations(study_sheet, lit_file)\n",
    "\n",
    "wb.save('updated_' + 'test_file.xlsx')"
   ]
  }
 ],
 "metadata": {
  "kernelspec": {
   "display_name": "base",
   "language": "python",
   "name": "python3"
  },
  "language_info": {
   "codemirror_mode": {
    "name": "ipython",
    "version": 3
   },
   "file_extension": ".py",
   "mimetype": "text/x-python",
   "name": "python",
   "nbconvert_exporter": "python",
   "pygments_lexer": "ipython3",
   "version": "3.9.15"
  },
  "orig_nbformat": 4
 },
 "nbformat": 4,
 "nbformat_minor": 2
}
